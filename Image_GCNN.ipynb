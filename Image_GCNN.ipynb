{
  "nbformat": 4,
  "nbformat_minor": 0,
  "metadata": {
    "colab": {
      "name": "prototype.ipynb",
      "provenance": [],
      "collapsed_sections": [],
      "authorship_tag": "ABX9TyMKbOgRdxheoF1+Uj7vi6/8",
      "include_colab_link": true
    },
    "kernelspec": {
      "name": "python3",
      "display_name": "Python 3"
    },
    "language_info": {
      "name": "python"
    },
    "accelerator": "GPU"
  },
  "cells": [
    {
      "cell_type": "markdown",
      "metadata": {
        "id": "view-in-github",
        "colab_type": "text"
      },
      "source": [
        "<a href=\"https://colab.research.google.com/github/PetchMa/deeplearning_fundamentals/blob/main/Image_GCNN.ipynb\" target=\"_parent\"><img src=\"https://colab.research.google.com/assets/colab-badge.svg\" alt=\"Open In Colab\"/></a>"
      ]
    },
    {
      "cell_type": "markdown",
      "source": [
        "\n",
        "# Convolutional Graph Neural Network\n",
        "\n",
        "In this notebook we will try and build a graph based neural network for image data. In other words we have entire image data instead of feature vectors. This will use both ```JAX``` and ```HAIKU``` to write this neural network!"
      ],
      "metadata": {
        "id": "lNilGme-ulNl"
      }
    },
    {
      "cell_type": "code",
      "execution_count": 1,
      "metadata": {
        "colab": {
          "base_uri": "https://localhost:8080/"
        },
        "id": "3VhpmEQ8cJFs",
        "outputId": "1058662d-c8ed-451b-b3b7-b5d1fd64659a"
      },
      "outputs": [
        {
          "output_type": "stream",
          "name": "stdout",
          "text": [
            "Requirement already satisfied: dm-haiku in /usr/local/lib/python3.7/dist-packages (0.0.5)\n",
            "Requirement already satisfied: tabulate>=0.8.9 in /usr/local/lib/python3.7/dist-packages (from dm-haiku) (0.8.9)\n",
            "Requirement already satisfied: absl-py>=0.7.1 in /usr/local/lib/python3.7/dist-packages (from dm-haiku) (0.12.0)\n",
            "Requirement already satisfied: typing-extensions in /usr/local/lib/python3.7/dist-packages (from dm-haiku) (3.10.0.2)\n",
            "Requirement already satisfied: numpy>=1.18.0 in /usr/local/lib/python3.7/dist-packages (from dm-haiku) (1.19.5)\n",
            "Requirement already satisfied: jmp>=0.0.2 in /usr/local/lib/python3.7/dist-packages (from dm-haiku) (0.0.2)\n",
            "Requirement already satisfied: six in /usr/local/lib/python3.7/dist-packages (from absl-py>=0.7.1->dm-haiku) (1.15.0)\n",
            "Requirement already satisfied: jraph in /usr/local/lib/python3.7/dist-packages (0.0.2.dev0)\n",
            "Requirement already satisfied: python-version>=\"3.6\" in /usr/local/lib/python3.7/dist-packages (from jraph) (0.0.2)\n",
            "Requirement already satisfied: numpy>=1.18.0 in /usr/local/lib/python3.7/dist-packages (from jraph) (1.19.5)\n",
            "Requirement already satisfied: jax>=0.1.55 in /usr/local/lib/python3.7/dist-packages (from jraph) (0.2.25)\n",
            "Requirement already satisfied: jaxlib>=0.1.37 in /usr/local/lib/python3.7/dist-packages (from jraph) (0.1.71+cuda111)\n",
            "Requirement already satisfied: scipy>=1.2.1 in /usr/local/lib/python3.7/dist-packages (from jax>=0.1.55->jraph) (1.4.1)\n",
            "Requirement already satisfied: absl-py in /usr/local/lib/python3.7/dist-packages (from jax>=0.1.55->jraph) (0.12.0)\n",
            "Requirement already satisfied: typing-extensions in /usr/local/lib/python3.7/dist-packages (from jax>=0.1.55->jraph) (3.10.0.2)\n",
            "Requirement already satisfied: opt-einsum in /usr/local/lib/python3.7/dist-packages (from jax>=0.1.55->jraph) (3.3.0)\n",
            "Requirement already satisfied: flatbuffers<3.0,>=1.12 in /usr/local/lib/python3.7/dist-packages (from jaxlib>=0.1.37->jraph) (2.0)\n",
            "Requirement already satisfied: six in /usr/local/lib/python3.7/dist-packages (from absl-py->jax>=0.1.55->jraph) (1.15.0)\n"
          ]
        }
      ],
      "source": [
        "!pip install dm-haiku\n",
        "!pip install jraph"
      ]
    },
    {
      "cell_type": "code",
      "source": [
        "import jax\n",
        "import jax.numpy as jnp\n",
        "import haiku as hk\n",
        "import numpy as np\n",
        "import matplotlib.pyplot as plt\n",
        "import jraph\n",
        "from jax import vmap, grad, jit\n",
        "%matplotlib inline"
      ],
      "metadata": {
        "id": "yKOc9WibdXvW"
      },
      "execution_count": 2,
      "outputs": []
    },
    {
      "cell_type": "markdown",
      "source": [
        "# Data\n",
        "\n",
        "First let us understand how the data will appear we will have an adjacency matrix to represent the graph structure, then we will have a 2-d image which are the inital 64 features of the data strucutre. Note that to get the dimensions align we need to \"upgrade\" the adjacency matrix with multiple copies of it self along the \"columns\" of our images thus the entire image is passed in the same way. \n",
        "\n"
      ],
      "metadata": {
        "id": "qHusfxKa4EWx"
      }
    },
    {
      "cell_type": "code",
      "source": [
        "seed = 0\n",
        "rng = jax.random.PRNGKey(seed)\n",
        "# data = jax.random.normal(rng, shape=(64, 16,16))\n",
        "data =np.zeros((64, 16,256))\n",
        "print(data.shape)\n",
        "\n",
        "\n",
        "adj_matrix =  jnp.ones((64,64))\n",
        "# adj_matrix = jax.random.normal(rng, shape=(64, 64,16))"
      ],
      "metadata": {
        "colab": {
          "base_uri": "https://localhost:8080/"
        },
        "id": "u-WWK9WHroGk",
        "outputId": "573dd9e1-e929-4476-c904-59cc83822732"
      },
      "execution_count": 3,
      "outputs": [
        {
          "output_type": "stream",
          "name": "stdout",
          "text": [
            "(64, 16, 256)\n"
          ]
        }
      ]
    },
    {
      "cell_type": "markdown",
      "source": [
        "# Update Nodes\n",
        "We can preform message passing and message aggregation in the SAME line giving us the following. We can double check that this is in fact doing what we wanted to do by looking at the following images - note we divide by 64 just to keep the data normalized.\n",
        "\n",
        "To implement this we run this test, we have dots painted on each of the 64 tiles of the image and to correctly aggregate the data we want to sum up the features where there exists a connection! We are going to connect every node and if this works, it would produce a diagonal thus the data of adjacent nodes have succesfully been passed to this node. In order to speed this up we're going to "
      ],
      "metadata": {
        "id": "OOdIm22a7cIq"
      }
    },
    {
      "cell_type": "code",
      "source": [
        "def update_features(features, adj_matrix):\n",
        "  updated_features = np.zeros(features.shape)\n",
        "  for i in range(features.shape[-1]):\n",
        "    updated_features[:,:,i] = jnp.matmul(adj_matrix[:,:],features[:,:,i])\n",
        "  return jnp.array(updated_features)/updated_features.max()\n",
        "\n",
        "updated_features = update_features(data, adj_matrix)\n",
        "print(updated_features.shape)"
      ],
      "metadata": {
        "colab": {
          "base_uri": "https://localhost:8080/"
        },
        "id": "aCSXNH47ubhh",
        "outputId": "3e8be783-469e-4fce-eec2-1118e32d73b7"
      },
      "execution_count": 4,
      "outputs": [
        {
          "output_type": "stream",
          "name": "stdout",
          "text": [
            "(64, 16, 256)\n"
          ]
        }
      ]
    },
    {
      "cell_type": "code",
      "source": [
        "for i in range(16):\n",
        "  data[i,i,i]=10000\n",
        "\n",
        "adj_matrix = jax.random.normal(rng, shape=(64, 64))\n",
        "updated_features = update_features(data, adj_matrix)\n",
        "\n",
        "plt.imshow(updated_features[0,:,:], aspect=10)"
      ],
      "metadata": {
        "colab": {
          "base_uri": "https://localhost:8080/",
          "height": 275
        },
        "id": "wJvBDegA7sQ7",
        "outputId": "4332d2cc-8510-47a4-cc00-80356ccdbb15"
      },
      "execution_count": 5,
      "outputs": [
        {
          "output_type": "execute_result",
          "data": {
            "text/plain": [
              "<matplotlib.image.AxesImage at 0x7fce901df190>"
            ]
          },
          "metadata": {},
          "execution_count": 5
        },
        {
          "output_type": "display_data",
          "data": {
            "image/png": "[encoded data removed]",
            "text/plain": [
              "<Figure size 432x288 with 1 Axes>"
            ]
          },
          "metadata": {
            "needs_background": "light"
          }
        }
      ]
    },
    {
      "cell_type": "code",
      "source": [
        "%timeit update_features(data, adj_matrix)"
      ],
      "metadata": {
        "colab": {
          "base_uri": "https://localhost:8080/"
        },
        "id": "c8AHRVi4REY7",
        "outputId": "2bd7e45b-def2-49e5-8540-2ab26270b133"
      },
      "execution_count": 6,
      "outputs": [
        {
          "output_type": "stream",
          "name": "stdout",
          "text": [
            "1 loop, best of 5: 451 ms per loop\n"
          ]
        }
      ]
    },
    {
      "cell_type": "markdown",
      "source": [
        "# Vectorization\n",
        "Okay cool we have something that works but we need to vectorize this to make it run fast this is how we do it. Note that this screws up the ordering the of data shape and so we will reshape it. This is important as it is ```28x``` the speed and preformance."
      ],
      "metadata": {
        "id": "CmTTi4HzLfD3"
      }
    },
    {
      "cell_type": "code",
      "source": [
        "def update_node(adj_matrix, data):\n",
        "  def update_row(adj_matrix, row):\n",
        "    return jnp.matmul(adj_matrix, row)\n",
        "  update_data = vmap(update_row, in_axes=(None, 1))(adj_matrix, data)\n",
        "  return jnp.swapaxes(update_data, 0,1)/update_data.max()\n",
        "\n",
        "updated_features = update_node(adj_matrix,data)\n",
        "\n",
        "plt.imshow(updated_features[0,:,:], aspect=10)"
      ],
      "metadata": {
        "colab": {
          "base_uri": "https://localhost:8080/",
          "height": 275
        },
        "id": "wzF1sFI8PbxF",
        "outputId": "2a3703c2-e7bf-4103-80b5-852d1f19518e"
      },
      "execution_count": 7,
      "outputs": [
        {
          "output_type": "execute_result",
          "data": {
            "text/plain": [
              "<matplotlib.image.AxesImage at 0x7fce9012d390>"
            ]
          },
          "metadata": {},
          "execution_count": 7
        },
        {
          "output_type": "display_data",
          "data": {
            "image/png": "[encoded data removed]",
            "text/plain": [
              "<Figure size 432x288 with 1 Axes>"
            ]
          },
          "metadata": {
            "needs_background": "light"
          }
        }
      ]
    },
    {
      "cell_type": "code",
      "source": [
        "%timeit update_node(adj_matrix,data)"
      ],
      "metadata": {
        "colab": {
          "base_uri": "https://localhost:8080/"
        },
        "id": "n1tStDxwRIzS",
        "outputId": "8728c23a-2d93-4460-ce51-acbf95e95252"
      },
      "execution_count": 8,
      "outputs": [
        {
          "output_type": "stream",
          "name": "stdout",
          "text": [
            "100 loops, best of 5: 3.16 ms per loop\n"
          ]
        }
      ]
    },
    {
      "cell_type": "markdown",
      "source": [
        "# Vectorization Again...\n",
        "Okay cool we solved the problme for a single graph but now we have to vectroize the model once again to handle batches."
      ],
      "metadata": {
        "id": "7dVBSVHwhYA2"
      }
    },
    {
      "cell_type": "code",
      "source": [
        "num_samples =128\n",
        "data_batch =np.zeros((num_samples, 64, 16, 256))\n",
        "adj_matrix_batch =  jnp.ones((num_samples, 64,64))\n",
        "\n",
        "batch_update_node =  vmap(update_node, in_axes=(0, 0))\n",
        "test = batch_update_node( adj_matrix_batch, data_batch)\n",
        "print(test.shape)"
      ],
      "metadata": {
        "colab": {
          "base_uri": "https://localhost:8080/"
        },
        "id": "Vddcu_myhXiL",
        "outputId": "67a7fd38-8bed-4d71-be13-2ed3031311f7"
      },
      "execution_count": 9,
      "outputs": [
        {
          "output_type": "stream",
          "name": "stdout",
          "text": [
            "(128, 64, 16, 256)\n"
          ]
        }
      ]
    },
    {
      "cell_type": "code",
      "source": [
        "batch_updated = vmap(update_node, in_axes=(0, 0))(adj_matrix_batch, data_batch)\n",
        "\n",
        "test = batch_update_node( adj_matrix_batch, data_batch)"
      ],
      "metadata": {
        "id": "CYd4Ma79ldZe"
      },
      "execution_count": 10,
      "outputs": []
    },
    {
      "cell_type": "markdown",
      "source": [
        "# Network Architecture\n",
        "\n",
        "We can now start trying to build the neural network Architecture using this helper function. We recall that we want to slide in a convolutional operation to make a collective classification. Now we will use the great magical powers of HAIKU"
      ],
      "metadata": {
        "id": "7Y4HoB8bRhkl"
      }
    },
    {
      "cell_type": "code",
      "source": [
        "class image_graph(hk.Module):\n",
        "\n",
        "  def __init__(self, adj_matrix, aggregation_func, name=None):\n",
        "    super().__init__(name=name)\n",
        "    self.adj_matrix = adj_matrix\n",
        "    self.aggregation_func = aggregation_func\n",
        "  \n",
        "  def update_node(self,adj_matrix, data):\n",
        "    def update_row(adj_matrix, row):\n",
        "      return jnp.matmul(adj_matrix, row)\n",
        "    update_data = vmap(update_row, in_axes=(None, 1))(adj_matrix, data)\n",
        "    return jnp.swapaxes(update_data, 0,1)/update_data.max()\n",
        "  \n",
        "  def batch_updated_node(self, adj_matrix_batch, data_batch):\n",
        "    return vmap(update_node, in_axes=(0, 0))(adj_matrix_batch, data_batch)\n",
        "\n",
        "  def __call__(self, x):\n",
        "    x = self.batch_updated_node(self.adj_matrix, x)\n",
        "    x = jax.nn.relu(x)\n",
        "    return x\n",
        "\n"
      ],
      "metadata": {
        "id": "FclitxFzWOgX"
      },
      "execution_count": 15,
      "outputs": []
    },
    {
      "cell_type": "markdown",
      "source": [
        "# Double Check\n",
        "Let us just double check the custom layer works the way we intend it to work\n"
      ],
      "metadata": {
        "id": "v4mM7gC7tOB6"
      }
    },
    {
      "cell_type": "code",
      "source": [
        "def test_model(adj_matrix, x):\n",
        "  image_graph_layer = image_graph(adj_matrix, batch_update_node)\n",
        "  return image_graph_layer(x)\n",
        "\n",
        "test_model1 = hk.transform(test_model)\n",
        "\n",
        "params = test_model1.init(rng,adj_matrix_batch, x=data_batch)\n",
        "\n",
        "update = test_model1.apply(params=params,adj_matrix =adj_matrix_batch, x=data_batch, rng=rng)"
      ],
      "metadata": {
        "id": "9AlMX4Xok3y5"
      },
      "execution_count": 16,
      "outputs": []
    },
    {
      "cell_type": "markdown",
      "source": [
        "# Define Feedforward\n",
        "We can now define the feedforward model for "
      ],
      "metadata": {
        "id": "jRsSM-wVtT50"
      }
    },
    {
      "cell_type": "code",
      "source": [
        "\n",
        "def forward_model(adj_matrix, x):\n",
        "  image_graph_layer = image_graph(adj_matrix, batch_update_node)\n",
        "  conv3d_1 = hk.Conv3D(64,kernel_shape=(3,3,3))\n",
        "\n",
        "  max_pool = hk.MaxPool(window_shape = (4,1,4),  strides=1, padding='VALID')\n",
        "  flatten = hk.Flatten()\n",
        "  \n",
        "  for i in range(10):\n",
        "    initial = x \n",
        "    x = image_graph_layer(x)\n",
        "    x = jnp.swapaxes(x,3, 1 )\n",
        "    x = conv3d_1(x)\n",
        "    x = jax.nn.relu(x)\n",
        "    x = jnp.swapaxes(x,3, 1 )\n",
        "    x = x+ initial\n",
        "\n",
        "  x = max_pool(x)\n",
        "\n",
        "  x = flatten(x)\n",
        "  x = jax.nn.relu(x)\n",
        "  mlp_input = x.shape[0]\n",
        "  fully_connected = hk.nets.MLP([mlp_input, 256, 128, 64], )\n",
        "  x = fully_connected(x)\n",
        "\n",
        "  return x\n",
        "\n",
        "\n",
        "model_forward= hk.transform(forward_model)\n",
        "data_batch =np.zeros((num_samples, 64, 16, 256))\n",
        "adj_matrix_batch =  jnp.ones((num_samples, 64,64))\n",
        "params = model_forward.init(rng,adj_matrix_batch, x=data_batch)\n",
        "update = model_forward.apply(params=params,adj_matrix =adj_matrix_batch, x=data_batch, rng=rng)"
      ],
      "metadata": {
        "id": "768To0q2lKJV"
      },
      "execution_count": 42,
      "outputs": []
    }
  ]
}