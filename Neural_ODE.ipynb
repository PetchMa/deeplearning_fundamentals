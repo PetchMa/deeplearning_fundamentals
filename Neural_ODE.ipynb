{
  "nbformat": 4,
  "nbformat_minor": 0,
  "metadata": {
    "colab": {
      "name": "Neural_ODE.ipynb",
      "provenance": [],
      "collapsed_sections": [],
      "authorship_tag": "ABX9TyOw+oh/Xi4oS9Ryd6I5ohf/",
      "include_colab_link": true
    },
    "kernelspec": {
      "name": "python3",
      "display_name": "Python 3"
    },
    "language_info": {
      "name": "python"
    },
    "accelerator": "GPU"
  },
  "cells": [
    {
      "cell_type": "markdown",
      "metadata": {
        "id": "view-in-github",
        "colab_type": "text"
      },
      "source": [
        "<a href=\"https://colab.research.google.com/github/PetchMa/deeplearning_fundamentals/blob/main/Neural_ODE.ipynb\" target=\"_parent\"><img src=\"https://colab.research.google.com/assets/colab-badge.svg\" alt=\"Open In Colab\"/></a>"
      ]
    },
    {
      "cell_type": "markdown",
      "source": [
        "# Build Neural Ordinary Differential Equations\n",
        "\n",
        "Neural ODE's are a new approach to making neural networks continous... Okay so basically we know that neural networks have a discrete number of layers. We also see that theres a special kind of layer called residual neural networks. These residual neural networks basically takes the output of the layer and adds the original input back to the output. Thus allowing the neural network to decide on its own how deep it can be. This is because if the neural network can learn all the parameters of the network to just be 0 which would effectively skip the layer. \n",
        "\n",
        "Why is this useful? Because you realize quickly that this formula for the resnet which is $$l_{n+1} = l_{n}+ f(l_n)$$ which is if you've ever worked with Ordinary differential equations is almost the EXACT FORM as the euler differential equation which is \n",
        "$$x(t+h) = x(t) + hx'(t)$$$\n",
        "However we know how to solve these kinds of ordinary differential equations! We can solve for $$x$$ generally for any given input. Solving this would give the general definition for the neural net as a numerical approximation to the function. \n",
        " \n",
        "Here are some good notes documenting this approach\n",
        "[link](http://implicit-layers-tutorial.org/neural_odes/)\n"
      ],
      "metadata": {
        "id": "Mb1ia8F_gn1G"
      }
    },
    {
      "cell_type": "code",
      "source": [
        "import jax.numpy as jnp\n",
        "from jax.nn import relu\n",
        "from jax import jit, grad\n",
        "from jax import value_and_grad, vmap\n",
        "import jax\n",
        "from jax.scipy.special import logsumexp\n",
        "import numpy as np\n",
        "import matplotlib.pyplot as plt\n",
        "\n",
        "seed = 0\n",
        "\n",
        "def init_MLP(layer_widths,parent_key, scale =0.01):\n",
        "  params = []\n",
        "  keys = jax.random.split(parent_key,num=len(layer_widths)-1)\n",
        "  for in_width, out_width, key in zip(layer_widths[:-1], layer_widths[1:], keys):\n",
        "    weight_key, bias_key = jax.random.split(key)\n",
        "\n",
        "    params.append(\n",
        "                   [scale*jax.random.normal(weight_key, shape=(in_width, out_width)),\n",
        "                    scale*jax.random.normal(bias_key, shape=(out_width,))]\n",
        "    )\n",
        "  return params\n",
        "\n",
        "rng = jax.random.PRNGKey(seed)\n"
      ],
      "metadata": {
        "id": "kXqMiHSGgneC"
      },
      "execution_count": 9,
      "outputs": []
    },
    {
      "cell_type": "code",
      "source": [
        "# def mlp(params, x):\n",
        "#   # hidden_layers = params[:-1]\n",
        "\n",
        "#   activation = x\n",
        "#   for w,b in params:\n",
        "#     activation = jax.nn.relu(jnp.dot(activation, w)+b)\n",
        "  \n",
        "#   return activation # basically does softmax lol but its log of softmax\n",
        "\n",
        "\n",
        "def mlp(params, inputs):\n",
        "  # A multi-layer perceptron, i.e. a fully-connected neural network.\n",
        "  for w, b in params:\n",
        "    outputs = jnp.dot(inputs, w) + b  # Linear transform\n",
        "    inputs = jnp.tanh(outputs)        # Nonlinearity\n",
        "  return outputs\n",
        "\n",
        "\n"
      ],
      "metadata": {
        "id": "kK63TprmOvNM"
      },
      "execution_count": 10,
      "outputs": []
    },
    {
      "cell_type": "markdown",
      "source": [
        "# Dynamics \n",
        "Now we will try to understand the dynamics "
      ],
      "metadata": {
        "id": "FFoeJwGzJGnZ"
      }
    },
    {
      "cell_type": "code",
      "source": [
        "def nn_dynamics(state, time, params):\n",
        "  state_and_time = jnp.hstack([state, jnp.array(time)])\n",
        "  return mlp(params, state_and_time)"
      ],
      "metadata": {
        "id": "KlPMBmAOI5sy"
      },
      "execution_count": 11,
      "outputs": []
    },
    {
      "cell_type": "markdown",
      "source": [
        "# Differential Equations Solver\n",
        "\n",
        "We have developed tons and tons of machinery just to solve these differential equations and we will be leveraging them to do just that. Combined together with the neural network parts we will shove it all into an ode solver with the inital inputs and the neural network which describes these dynamics. The ode solver at this point is the ``odeint`` note that this ODE solve solution is the function that approximates the curve. "
      ],
      "metadata": {
        "id": "iBeNHxwfov79"
      }
    },
    {
      "cell_type": "code",
      "source": [
        "from jax.experimental.ode import odeint\n",
        "\n",
        "def odenet(params, input):\n",
        "  start_and_end_times = jnp.array([0.0, 1.0])\n",
        "  init_state, final_state = odeint(nn_dynamics, input, start_and_end_times, params)\n",
        "  return final_state"
      ],
      "metadata": {
        "id": "AZ980BgOJg-L"
      },
      "execution_count": 12,
      "outputs": []
    },
    {
      "cell_type": "code",
      "source": [
        "from jax import vmap\n",
        "batched_odenet = vmap(odenet, in_axes=(None, 0))"
      ],
      "metadata": {
        "id": "gADaRcgSJlef"
      },
      "execution_count": 13,
      "outputs": []
    },
    {
      "cell_type": "markdown",
      "source": [
        "# Dataset\n",
        "\n",
        "Okay I got very lazy to actually make a better dataset but uhh here is a very toy example. All we care about in the end is fitting this 1-d curve which should be simple enough"
      ],
      "metadata": {
        "id": "XyUdvqRBQhss"
      }
    },
    {
      "cell_type": "code",
      "source": [
        "inputs = jnp.reshape(jnp.linspace(-2.0, 2.0, 10), (10, 1))\n",
        "targets = inputs**3 + 0.1 * inputs\n",
        "print(targets.shape)"
      ],
      "metadata": {
        "colab": {
          "base_uri": "https://localhost:8080/"
        },
        "id": "R8YCK2riQtAr",
        "outputId": "f10a9cdc-980e-4722-a8ee-c4842753fa83"
      },
      "execution_count": 14,
      "outputs": [
        {
          "output_type": "stream",
          "name": "stdout",
          "text": [
            "(10, 1)\n"
          ]
        }
      ]
    },
    {
      "cell_type": "code",
      "source": [
        "import numpy.random as npr\n",
        "def init_random_params(scale, layer_sizes, rng=npr.RandomState(0)):\n",
        "  return [(scale * rng.randn(m, n), scale * rng.randn(n))\n",
        "          for m, n, in zip(layer_sizes[:-1], layer_sizes[1:])]\n",
        "\n",
        "odenet_layer_sizes = [2, 20, 1]\n",
        "param_scale = 1.0\n",
        "resnet_params = init_random_params(param_scale, odenet_layer_sizes)\n",
        "\n",
        "print(jax.tree_map(lambda x: x.shape, resnet_params))\n",
        "\n",
        "\n",
        "odenet_params = init_MLP(odenet_layer_sizes, rng)\n",
        "print(jax.tree_map(lambda x: x.shape, odenet_params))"
      ],
      "metadata": {
        "colab": {
          "base_uri": "https://localhost:8080/"
        },
        "id": "Ip6DFh1_tOW9",
        "outputId": "cc64509c-a474-4a0b-e4de-278810c68205"
      },
      "execution_count": 15,
      "outputs": [
        {
          "output_type": "stream",
          "name": "stdout",
          "text": [
            "[((2, 20), (20,)), ((20, 1), (1,))]\n",
            "[[(2, 20), (20,)], [(20, 1), (1,)]]\n"
          ]
        }
      ]
    },
    {
      "cell_type": "code",
      "source": [
        "# Toy 1D dataset.\n",
        "inputs = jnp.reshape(jnp.linspace(-2.0, 2.0, 10), (10, 1))\n",
        "targets = inputs**3 + 0.1 * inputs\n",
        "\n",
        "\n",
        "param_scale = 1.0\n",
        "step_size = 0.01\n",
        "train_iters = 1000\n",
        "\n",
        "# We need to change the input dimension to 2, to allow time-dependent dynamics.\n",
        "odenet_layer_sizes = [2, 20, 1]\n",
        "\n",
        "def odenet_loss(params, inputs, targets):\n",
        "  preds = batched_odenet(params, inputs)\n",
        "  return jnp.mean(jnp.sum((preds - targets)**2, axis=1))\n",
        "\n",
        "@jit\n",
        "def odenet_update(params, inputs, targets):\n",
        "  grads = grad(odenet_loss)(params, inputs, targets)\n",
        "  return [(w - step_size * dw, b - step_size * db)\n",
        "          for (w, b), (dw, db) in zip(params, grads)]\n",
        "\n",
        "# Initialize and train ODE-Net.\n",
        "odenet_params = init_random_params(param_scale, odenet_layer_sizes)\n",
        "\n",
        "for i in range(train_iters):\n",
        "  odenet_params = odenet_update(odenet_params, inputs, targets)\n",
        "\n",
        "# Plot resulting model.\n",
        "fig = plt.figure(figsize=(6, 4), dpi=150)\n",
        "ax = fig.gca()\n",
        "ax.scatter(inputs, targets, lw=0.5, color='green')\n",
        "fine_inputs = jnp.reshape(jnp.linspace(-3.0, 3.0, 100), (100, 1))\n",
        "\n",
        "ax.plot(fine_inputs, batched_odenet(odenet_params, fine_inputs), lw=0.5, color='red')\n",
        "ax.set_xlabel('input')\n",
        "ax.set_ylabel('output')\n",
        "plt.legend(('Resnet predictions', 'ODE Net predictions'))"
      ],
      "metadata": {
        "colab": {
          "base_uri": "https://localhost:8080/",
          "height": 580
        },
        "id": "w6NHhAPiOHpt",
        "outputId": "9edbfa9d-0e78-4d09-ae23-dd7d97c37f2b"
      },
      "execution_count": 16,
      "outputs": [
        {
          "output_type": "execute_result",
          "data": {
            "text/plain": [
              "<matplotlib.legend.Legend at 0x7fdcfecf2550>"
            ]
          },
          "metadata": {},
          "execution_count": 16
        },
        {
          "output_type": "display_data",
          "data": {
            "image/png": "[encoded data removed]",
            "text/plain": [
              "<Figure size 900x600 with 1 Axes>"
            ]
          },
          "metadata": {
            "needs_background": "light"
          }
        }
      ]
    }
  ]
}