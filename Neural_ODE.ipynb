{
  "nbformat": 4,
  "nbformat_minor": 0,
  "metadata": {
    "colab": {
      "name": "Neural_ODE.ipynb",
      "provenance": [],
      "authorship_tag": "ABX9TyOiHMGc+h5MmSwlbMv4y/S7",
      "include_colab_link": true
    },
    "kernelspec": {
      "name": "python3",
      "display_name": "Python 3"
    },
    "language_info": {
      "name": "python"
    },
    "accelerator": "GPU"
  },
  "cells": [
    {
      "cell_type": "markdown",
      "metadata": {
        "id": "view-in-github",
        "colab_type": "text"
      },
      "source": [
        "<a href=\"https://colab.research.google.com/github/PetchMa/deeplearning_fundamentals/blob/main/Neural_ODE.ipynb\" target=\"_parent\"><img src=\"https://colab.research.google.com/assets/colab-badge.svg\" alt=\"Open In Colab\"/></a>"
      ]
    },
    {
      "cell_type": "markdown",
      "source": [
        "# Build Neuarl Ordinary Differential Equations\n",
        "\n",
        "Neural ODE's are a new approach to simple multi layered perceptron by feeding it dynamics of a system instead. To begin we need to start off with a simple multi layered perceptron again... \n",
        "\n",
        "Here are some good notes documenting this approach\n",
        "[link](http://implicit-layers-tutorial.org/neural_odes/)\n"
      ],
      "metadata": {
        "id": "Mb1ia8F_gn1G"
      }
    },
    {
      "cell_type": "code",
      "source": [
        "import jax.numpy as jnp\n",
        "from jax.nn import relu\n",
        "from jax import jit, grad\n",
        "\n",
        "def mlp(params, inputs):\n",
        "  # A multi-layer perceptron, i.e. a fully-connected neural network.\n",
        "  for w, b in params:\n",
        "    outputs = jnp.dot(inputs, w) + b  # Linear transform\n",
        "    inputs = relu(outputs)        # Nonlinearity\n",
        "  return outputs"
      ],
      "metadata": {
        "id": "kXqMiHSGgneC"
      },
      "execution_count": 3,
      "outputs": []
    },
    {
      "cell_type": "markdown",
      "source": [
        "# Dynamics \n",
        "Now we will try to understand the dynamics "
      ],
      "metadata": {
        "id": "FFoeJwGzJGnZ"
      }
    },
    {
      "cell_type": "code",
      "source": [
        "def nn_dynamics(state, time, params):\n",
        "  state_and_time = jnp.hstack([state, jnp.array(time)])\n",
        "  return mlp(params, state_and_time)"
      ],
      "metadata": {
        "id": "KlPMBmAOI5sy"
      },
      "execution_count": 4,
      "outputs": []
    },
    {
      "cell_type": "code",
      "source": [
        "from jax.experimental.ode import odeint\n",
        "\n",
        "def odenet(params, input):\n",
        "  start_and_end_times = jnp.array([0.0, 1.0])\n",
        "  init_state, final_state = odeint(nn_dynamics, input, start_and_end_times, params)\n",
        "  return final_state"
      ],
      "metadata": {
        "id": "AZ980BgOJg-L"
      },
      "execution_count": 5,
      "outputs": []
    },
    {
      "cell_type": "code",
      "source": [
        "from jax import vmap\n",
        "batched_odenet = vmap(odenet, in_axes=(None, 0))"
      ],
      "metadata": {
        "id": "gADaRcgSJlef"
      },
      "execution_count": 6,
      "outputs": []
    }
  ]
}